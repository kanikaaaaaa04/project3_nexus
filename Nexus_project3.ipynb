{
 "cells": [
  {
   "cell_type": "code",
   "execution_count": 1,
   "id": "87300801",
   "metadata": {},
   "outputs": [
    {
     "name": "stdout",
     "output_type": "stream",
     "text": [
      " * Serving Flask app \"__main__\" (lazy loading)\n",
      " * Environment: production\n",
      "\u001b[31m   WARNING: This is a development server. Do not use it in a production deployment.\u001b[0m\n",
      "\u001b[2m   Use a production WSGI server instead.\u001b[0m\n",
      " * Debug mode: on\n"
     ]
    },
    {
     "name": "stderr",
     "output_type": "stream",
     "text": [
      " * Restarting with watchdog (windowsapi)\n"
     ]
    },
    {
     "ename": "SystemExit",
     "evalue": "1",
     "output_type": "error",
     "traceback": [
      "An exception has occurred, use %tb to see the full traceback.\n",
      "\u001b[1;31mSystemExit\u001b[0m\u001b[1;31m:\u001b[0m 1\n"
     ]
    },
    {
     "name": "stderr",
     "output_type": "stream",
     "text": [
      "D:\\kanika1\\summer school\\lib\\site-packages\\IPython\\core\\interactiveshell.py:3452: UserWarning: To exit: use 'exit', 'quit', or Ctrl-D.\n",
      "  warn(\"To exit: use 'exit', 'quit', or Ctrl-D.\", stacklevel=1)\n"
     ]
    }
   ],
   "source": [
    "# Import necessary libraries\n",
    "import pandas as pd\n",
    "from sklearn.model_selection import train_test_split\n",
    "from sklearn.feature_extraction.text import TfidfVectorizer\n",
    "from sklearn.naive_bayes import MultinomialNB\n",
    "from sklearn.metrics import accuracy_score, classification_report\n",
    "from flask import Flask, request, jsonify\n",
    "\n",
    "# Generate random customer review data (replace with your own data)\n",
    "reviews_data = [\n",
    "    {\"review\": \"This product is terrible. It broke after just a few days of use.\", \"sentiment\": \"negative\"},\n",
    "    {\"review\": \"I'm satisfied with the quality of this product. It works exactly as described.\", \"sentiment\": \"positive\"},\n",
    "    {\"review\": \"The customer service was excellent! They were very helpful and resolved my issue quickly.\", \"sentiment\": \"positive\"}\n",
    "]\n",
    "\n",
    "# Convert review data to DataFrame\n",
    "df = pd.DataFrame(reviews_data)\n",
    "\n",
    "# Data preprocessing\n",
    "X = df['review']\n",
    "y = df['sentiment']\n",
    "\n",
    "# Split dataset into training and testing sets\n",
    "X_train, X_test, y_train, y_test = train_test_split(X, y, test_size=0.2, random_state=42)\n",
    "\n",
    "# Feature extraction using TF-IDF\n",
    "tfidf_vectorizer = TfidfVectorizer(max_features=5000)\n",
    "X_train_tfidf = tfidf_vectorizer.fit_transform(X_train)\n",
    "X_test_tfidf = tfidf_vectorizer.transform(X_test)\n",
    "\n",
    "# Model training\n",
    "model = MultinomialNB()\n",
    "model.fit(X_train_tfidf, y_train)\n",
    "\n",
    "# Flask app setup\n",
    "app = Flask(__name__)\n",
    "\n",
    "# Route for sentiment analysis\n",
    "@app.route('/predict', methods=['POST'])\n",
    "def predict_sentiment():\n",
    "    data = request.get_json()\n",
    "    reviews = data['reviews']\n",
    "    review_sentiments = []\n",
    "    for review in reviews:\n",
    "        review_text = review['review']\n",
    "        review_tfidf = tfidf_vectorizer.transform([review_text])\n",
    "        prediction = model.predict(review_tfidf)[0]\n",
    "        review_sentiments.append({'review': review_text, 'sentiment': prediction})\n",
    "    return jsonify({'results': review_sentiments})\n",
    "\n",
    "# Run Flask app\n",
    "if __name__ == '__main__':\n",
    "    app.run(debug=True)\n"
   ]
  },
  {
   "cell_type": "code",
   "execution_count": null,
   "id": "3430333b",
   "metadata": {},
   "outputs": [],
   "source": []
  }
 ],
 "metadata": {
  "kernelspec": {
   "display_name": "Python 3 (ipykernel)",
   "language": "python",
   "name": "python3"
  },
  "language_info": {
   "codemirror_mode": {
    "name": "ipython",
    "version": 3
   },
   "file_extension": ".py",
   "mimetype": "text/x-python",
   "name": "python",
   "nbconvert_exporter": "python",
   "pygments_lexer": "ipython3",
   "version": "3.9.7"
  }
 },
 "nbformat": 4,
 "nbformat_minor": 5
}
